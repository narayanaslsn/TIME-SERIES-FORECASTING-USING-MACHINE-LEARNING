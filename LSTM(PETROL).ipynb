{
 "cells": [
  {
   "cell_type": "code",
   "execution_count": null,
   "id": "00dedb17",
   "metadata": {},
   "outputs": [
    {
     "name": "stdout",
     "output_type": "stream",
     "text": [
      "Epoch 1/30\n",
      "818/818 - 4s - loss: 0.0101 - 4s/epoch - 4ms/step\n",
      "Epoch 2/30\n",
      "818/818 - 1s - loss: 3.9931e-05 - 1s/epoch - 2ms/step\n",
      "Epoch 3/30\n",
      "818/818 - 1s - loss: 3.8929e-05 - 1s/epoch - 2ms/step\n",
      "Epoch 4/30\n",
      "818/818 - 1s - loss: 3.9212e-05 - 1s/epoch - 2ms/step\n",
      "Epoch 5/30\n",
      "818/818 - 1s - loss: 3.6857e-05 - 1s/epoch - 1ms/step\n",
      "Epoch 6/30\n",
      "818/818 - 1s - loss: 3.8337e-05 - 1s/epoch - 1ms/step\n",
      "Epoch 7/30\n",
      "818/818 - 1s - loss: 3.5246e-05 - 1s/epoch - 1ms/step\n",
      "Epoch 8/30\n",
      "818/818 - 113s - loss: 3.5757e-05 - 113s/epoch - 138ms/step\n",
      "Epoch 9/30\n",
      "818/818 - 2s - loss: 3.4470e-05 - 2s/epoch - 2ms/step\n",
      "Epoch 10/30\n",
      "818/818 - 2s - loss: 3.2509e-05 - 2s/epoch - 3ms/step\n",
      "Epoch 11/30\n",
      "818/818 - 1s - loss: 3.8405e-05 - 1s/epoch - 2ms/step\n",
      "Epoch 12/30\n",
      "818/818 - 2s - loss: 3.0253e-05 - 2s/epoch - 2ms/step\n",
      "Epoch 13/30\n",
      "818/818 - 2s - loss: 3.0247e-05 - 2s/epoch - 2ms/step\n",
      "Epoch 14/30\n",
      "818/818 - 2s - loss: 3.7196e-05 - 2s/epoch - 2ms/step\n",
      "Epoch 15/30\n",
      "818/818 - 2s - loss: 3.0589e-05 - 2s/epoch - 2ms/step\n",
      "Epoch 16/30\n",
      "818/818 - 2s - loss: 2.9757e-05 - 2s/epoch - 2ms/step\n",
      "Epoch 17/30\n"
     ]
    }
   ],
   "source": [
    "import numpy as np\n",
    "import pandas as pd\n",
    "import matplotlib.pyplot as plt\n",
    "from sklearn.preprocessing import MinMaxScaler\n",
    "from sklearn.metrics import mean_squared_error,r2_score\n",
    "from keras.models import Sequential\n",
    "from keras.layers import LSTM, Dense\n",
    "\n",
    "# Assuming your dataset is in a CSV file\n",
    "data = pd.read_csv('Ahmedabad.csv')\n",
    "\n",
    "# Assuming your dataset has columns: date, open, close, volume\n",
    "# You may need to preprocess your data accordingly (e.g., convert date to datetime, handle missing values)\n",
    "\n",
    "# Using 'close' as the target variable\n",
    "dataset = data['rate'].values.reshape(-1, 1)\n",
    "\n",
    "# Normalizing the dataset\n",
    "scaler = MinMaxScaler(feature_range=(0, 1))\n",
    "dataset_scaled = scaler.fit_transform(dataset)\n",
    "\n",
    "# Splitting the dataset into training and testing sets (80:20 ratio)\n",
    "train_size = int(len(dataset_scaled) * 0.8)\n",
    "test_size = len(dataset_scaled) - train_size\n",
    "train, test = dataset_scaled[0:train_size, :], dataset_scaled[train_size:len(dataset_scaled), :]\n",
    "\n",
    "# Function to create sequences for LSTM\n",
    "def create_sequences(dataset, look_back=1):\n",
    "    X, Y = [], []\n",
    "    for i in range(len(dataset) - look_back):\n",
    "        a = dataset[i:(i + look_back), 0]\n",
    "        X.append(a)\n",
    "        Y.append(dataset[i + look_back, 0])\n",
    "    return np.array(X), np.array(Y)\n",
    "\n",
    "# Creating sequences with a look-back of 1\n",
    "look_back = 1\n",
    "X_train, y_train = create_sequences(train, look_back)\n",
    "X_test, y_test = create_sequences(test, look_back)\n",
    "\n",
    "# Reshaping the input data to be [samples, time steps, features]\n",
    "X_train = np.reshape(X_train, (X_train.shape[0], 1, X_train.shape[1]))\n",
    "X_test = np.reshape(X_test, (X_test.shape[0], 1, X_test.shape[1]))\n",
    "\n",
    "# Building the LSTM model\n",
    "model = Sequential()\n",
    "model.add(LSTM(units=50, input_shape=(1, look_back)))\n",
    "model.add(Dense(units=1))\n",
    "model.compile(loss='mean_squared_error', optimizer='adam')\n",
    "\n",
    "# Training the model\n",
    "model.fit(X_train, y_train, epochs=30, batch_size=1, verbose=2)\n",
    "\n",
    "# Predicting on training and testing sets\n",
    "train_predict = model.predict(X_train)\n",
    "test_predict = model.predict(X_test)\n",
    "\n",
    "# Transforming back to original scale\n",
    "train_predict = scaler.inverse_transform(train_predict)\n",
    "y_train = scaler.inverse_transform([y_train])\n",
    "test_predict = scaler.inverse_transform(test_predict)\n",
    "y_test = scaler.inverse_transform([y_test])\n",
    "\n",
    "# Calculating RMSE\n",
    "rmse_train = np.sqrt(mean_squared_error(y_train[0], train_predict[:, 0]))\n",
    "rmse_test = np.sqrt(mean_squared_error(y_test[0], test_predict[:, 0]))\n",
    "\n",
    "# Calculating R2 Score\n",
    "r2_train = r2_score(y_train[0], train_predict[:, 0])\n",
    "r2_test = r2_score(y_test[0], test_predict[:, 0])\n",
    "\n",
    "print(f\"RMSE on Training Set: {rmse_train}\")\n",
    "print(f\"RMSE on Test Set: {rmse_test}\")\n",
    "print(f\"R2 Score on Training Set: {r2_train}\")\n",
    "print(f\"R2 Score on Test Set: {r2_test}\")\n",
    "\n",
    "# Plotting the actual vs predicted values for training set\n",
    "# Plotting the actual vs predicted values for training set\n",
    "plt.figure(figsize=(12, 6))\n",
    "plt.subplot(1, 2, 1)\n",
    "plt.plot(scaler.inverse_transform(dataset_scaled), label='Actual')\n",
    "plt.plot(np.concatenate([train_predict, test_predict]), label='Predicted')\n",
    "plt.title('Actual vs Predicted (Training Set)')\n",
    "plt.xlabel('Days')\n",
    "plt.ylabel('Petrol Price')\n",
    "plt.legend(loc='upper left')\n",
    "# Plotting the actual vs predicted values for testing set\n",
    "plt.subplot(1, 2, 2)\n",
    "plt.plot(scaler.inverse_transform(dataset_scaled), label='Actual')\n",
    "plt.plot([None for _ in train_predict] + [x for x in test_predict], label='Predicted')\n",
    "plt.title('Actual vs Predicted (Testing Set)')\n",
    "plt.xlabel('Days')\n",
    "plt.ylabel('Petrol Price')\n",
    "\n",
    "plt.legend(loc='upper left')  # This will add the legend to your plots\n",
    "plt.tight_layout()\n",
    "plt.show()\n",
    "\n"
   ]
  },
  {
   "cell_type": "code",
   "execution_count": 2,
   "id": "a6e0aefa",
   "metadata": {},
   "outputs": [
    {
     "name": "stdout",
     "output_type": "stream",
     "text": [
      "Mean: 79.44580371093774\n",
      "Correlation between Actual and Predicted Values: 0.9559711920375161\n"
     ]
    }
   ],
   "source": [
    "# Calculate the mean of the 'rate' column\n",
    "mean_rate = data['rate'].mean()\n",
    "print(f\"Mean: {mean_rate}\")\n",
    "\n",
    "# Calculate the correlation between the actual and predicted values\n",
    "# Note: You need to ensure that the actual and predicted values are of the same length\n",
    "correlation = np.corrcoef(y_test[0][-len(test_predict):], test_predict[:, 0])[0, 1]\n",
    "print(f\"Correlation between Actual and Predicted Values: {correlation}\")"
   ]
  },
  {
   "cell_type": "code",
   "execution_count": 3,
   "id": "9fb8180c",
   "metadata": {
    "scrolled": false
   },
   "outputs": [
    {
     "ename": "NameError",
     "evalue": "name 'y_pred' is not defined",
     "output_type": "error",
     "traceback": [
      "\u001b[1;31m---------------------------------------------------------------------------\u001b[0m",
      "\u001b[1;31mNameError\u001b[0m                                 Traceback (most recent call last)",
      "Cell \u001b[1;32mIn[3], line 6\u001b[0m\n\u001b[0;32m      4\u001b[0m plt\u001b[38;5;241m.\u001b[39msubplot(\u001b[38;5;241m1\u001b[39m, \u001b[38;5;241m2\u001b[39m, \u001b[38;5;241m1\u001b[39m)\n\u001b[0;32m      5\u001b[0m plt\u001b[38;5;241m.\u001b[39mplot(data[\u001b[38;5;124m'\u001b[39m\u001b[38;5;124mrate\u001b[39m\u001b[38;5;124m'\u001b[39m], label\u001b[38;5;241m=\u001b[39m\u001b[38;5;124m'\u001b[39m\u001b[38;5;124mActual\u001b[39m\u001b[38;5;124m'\u001b[39m)\n\u001b[1;32m----> 6\u001b[0m plt\u001b[38;5;241m.\u001b[39mplot(np\u001b[38;5;241m.\u001b[39mconcatenate([\u001b[43my_pred\u001b[49m,y_pred_of_test]), label\u001b[38;5;241m=\u001b[39m\u001b[38;5;124m'\u001b[39m\u001b[38;5;124mPredicted\u001b[39m\u001b[38;5;124m'\u001b[39m)\n\u001b[0;32m      7\u001b[0m plt\u001b[38;5;241m.\u001b[39mtitle(\u001b[38;5;124m'\u001b[39m\u001b[38;5;124mActual vs Predicted (Training Set)\u001b[39m\u001b[38;5;124m'\u001b[39m)\n\u001b[0;32m      8\u001b[0m plt\u001b[38;5;241m.\u001b[39mxlabel(\u001b[38;5;124m'\u001b[39m\u001b[38;5;124mDays\u001b[39m\u001b[38;5;124m'\u001b[39m)\n",
      "\u001b[1;31mNameError\u001b[0m: name 'y_pred' is not defined"
     ]
    },
    {
     "data": {
      "image/png": "[encoded data removed]",
      "text/plain": [
       "<Figure size 1200x600 with 1 Axes>"
      ]
     },
     "metadata": {},
     "output_type": "display_data"
    }
   ],
   "source": [
    "\n",
    "# Plotting the actual vs predicted values for training set\n",
    "# Plotting the actual vs predicted values for training set\n",
    "plt.figure(figsize=(12, 6))\n",
    "plt.subplot(1, 2, 1)\n",
    "plt.plot(data['rate'], label='Actual')\n",
    "plt.plot(np.concatenate([y_pred,y_pred_of_test]), label='Predicted')\n",
    "plt.title('Actual vs Predicted (Training Set)')\n",
    "plt.xlabel('Days')\n",
    "plt.ylabel('Petrol Price')\n",
    "plt.legend(loc='upper left')\n",
    "# Plotting the actual vs predicted values for testing set\n",
    "plt.subplot(1, 2, 2)\n",
    "plt.plot(data['rate'], label='Actual')\n",
    "plt.plot([None for _ in y_pred] + [x for x in y_pred_of_test], label='Predicted')\n",
    "plt.title('Actual vs Predicted (Testing Set)')\n",
    "plt.xlabel('Days')\n",
    "plt.ylabel('Petrol Price')\n",
    "\n",
    "plt.legend(loc='upper left')  # This will add the legend to your plots\n",
    "plt.tight_layout()\n",
    "plt.show()"
   ]
  },
  {
   "cell_type": "code",
   "execution_count": null,
   "id": "3d4c52ba",
   "metadata": {},
   "outputs": [],
   "source": []
  }
 ],
 "metadata": {
  "kernelspec": {
   "display_name": "Python 3 (ipykernel)",
   "language": "python",
   "name": "python3"
  },
  "language_info": {
   "codemirror_mode": {
    "name": "ipython",
    "version": 3
   },
   "file_extension": ".py",
   "mimetype": "text/x-python",
   "name": "python",
   "nbconvert_exporter": "python",
   "pygments_lexer": "ipython3",
   "version": "3.9.16"
  },
  "varInspector": {
   "cols": {
    "lenName": 16,
    "lenType": 16,
    "lenVar": 40
   },
   "kernels_config": {
    "python": {
     "delete_cmd_postfix": "",
     "delete_cmd_prefix": "del ",
     "library": "var_list.py",
     "varRefreshCmd": "print(var_dic_list())"
    },
    "r": {
     "delete_cmd_postfix": ") ",
     "delete_cmd_prefix": "rm(",
     "library": "var_list.r",
     "varRefreshCmd": "cat(var_dic_list()) "
    }
   },
   "types_to_exclude": [
    "module",
    "function",
    "builtin_function_or_method",
    "instance",
    "_Feature"
   ],
   "window_display": false
  }
 },
 "nbformat": 4,
 "nbformat_minor": 5
}
